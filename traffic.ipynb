{
  "nbformat": 4,
  "nbformat_minor": 0,
  "metadata": {
    "colab": {
      "name": "traffic.ipynb",
      "version": "0.3.2",
      "provenance": [],
      "include_colab_link": true
    },
    "kernelspec": {
      "name": "python3",
      "display_name": "Python 3"
    },
    "accelerator": "TPU"
  },
  "cells": [
    {
      "cell_type": "markdown",
      "metadata": {
        "id": "view-in-github",
        "colab_type": "text"
      },
      "source": [
        "<a href=\"https://colab.research.google.com/github/WinkLC/liuyuan/blob/master/traffic.ipynb\" target=\"_parent\"><img src=\"https://colab.research.google.com/assets/colab-badge.svg\" alt=\"Open In Colab\"/></a>"
      ]
    },
    {
      "metadata": {
        "id": "ZlJmMeeI0vlQ",
        "colab_type": "code",
        "colab": {}
      },
      "cell_type": "code",
      "source": [
        "import pandas as pd"
      ],
      "execution_count": 0,
      "outputs": []
    },
    {
      "metadata": {
        "id": "b5FpNhXz5sAN",
        "colab_type": "code",
        "colab": {}
      },
      "cell_type": "code",
      "source": [
        "import pickle"
      ],
      "execution_count": 0,
      "outputs": []
    },
    {
      "metadata": {
        "id": "qWGHYlar3PmB",
        "colab_type": "code",
        "colab": {
          "base_uri": "https://localhost:8080/",
          "height": 118
        },
        "outputId": "38295955-49b1-4f6c-9ee1-ccfa3908584b"
      },
      "cell_type": "code",
      "source": [
        "!git clone https://github.com/WinkLC/liuyuan.git"
      ],
      "execution_count": 3,
      "outputs": [
        {
          "output_type": "stream",
          "text": [
            "Cloning into 'liuyuan'...\n",
            "remote: Enumerating objects: 16, done.\u001b[K\n",
            "remote: Counting objects: 100% (16/16), done.\u001b[K\n",
            "remote: Compressing objects: 100% (16/16), done.\u001b[K\n",
            "remote: Total 16 (delta 3), reused 0 (delta 0), pack-reused 0\u001b[K\n",
            "Unpacking objects: 100% (16/16), done.\n"
          ],
          "name": "stdout"
        }
      ]
    },
    {
      "metadata": {
        "id": "YLjCD1EJ4AtF",
        "colab_type": "code",
        "colab": {}
      },
      "cell_type": "code",
      "source": [
        "from pathlib import Path\n",
        "data_dir = Path('liuyuan')"
      ],
      "execution_count": 0,
      "outputs": []
    },
    {
      "metadata": {
        "id": "ZDRjzG5l4E7T",
        "colab_type": "code",
        "colab": {}
      },
      "cell_type": "code",
      "source": [
        "with open(data_dir / 'others.pickle', 'rb') as f:\n",
        "    others_list = pickle.load(f)"
      ],
      "execution_count": 0,
      "outputs": []
    },
    {
      "metadata": {
        "id": "P34Pfj4111UO",
        "colab_type": "code",
        "colab": {}
      },
      "cell_type": "code",
      "source": [
        "with open(data_dir / 'traffic_data_list.pickle', 'rb') as f:\n",
        "    traffic_data_list=pickle.load(f)"
      ],
      "execution_count": 0,
      "outputs": []
    },
    {
      "metadata": {
        "id": "LrzoquinAXOS",
        "colab_type": "code",
        "colab": {}
      },
      "cell_type": "code",
      "source": [
        "mypath = Path(\"liuyuan\")\n",
        "df = pd.read_csv(mypath/'data.csv')"
      ],
      "execution_count": 0,
      "outputs": []
    },
    {
      "metadata": {
        "id": "E8OsHaIhAl3q",
        "colab_type": "code",
        "colab": {
          "base_uri": "https://localhost:8080/",
          "height": 195
        },
        "outputId": "8ad17a5e-8f75-443b-d871-7d72ab29552a"
      },
      "cell_type": "code",
      "source": [
        "df.head()"
      ],
      "execution_count": 8,
      "outputs": [
        {
          "output_type": "execute_result",
          "data": {
            "text/html": [
              "<div>\n",
              "<style scoped>\n",
              "    .dataframe tbody tr th:only-of-type {\n",
              "        vertical-align: middle;\n",
              "    }\n",
              "\n",
              "    .dataframe tbody tr th {\n",
              "        vertical-align: top;\n",
              "    }\n",
              "\n",
              "    .dataframe thead th {\n",
              "        text-align: right;\n",
              "    }\n",
              "</style>\n",
              "<table border=\"1\" class=\"dataframe\">\n",
              "  <thead>\n",
              "    <tr style=\"text-align: right;\">\n",
              "      <th></th>\n",
              "      <th>label</th>\n",
              "      <th>speed</th>\n",
              "    </tr>\n",
              "  </thead>\n",
              "  <tbody>\n",
              "    <tr>\n",
              "      <th>0</th>\n",
              "      <td>1</td>\n",
              "      <td>[30, 26, 25, 23, 23, 26, 25, 24, 23, 19, 19, 14]</td>\n",
              "    </tr>\n",
              "    <tr>\n",
              "      <th>1</th>\n",
              "      <td>1</td>\n",
              "      <td>[25, 19, 15, 16, 20, 21, 20, 19, 20, 24, 29, 16]</td>\n",
              "    </tr>\n",
              "    <tr>\n",
              "      <th>2</th>\n",
              "      <td>1</td>\n",
              "      <td>[26, 27, 28, 32, 33, 35, 35, 35, 35, 37, 34, 15]</td>\n",
              "    </tr>\n",
              "    <tr>\n",
              "      <th>3</th>\n",
              "      <td>1</td>\n",
              "      <td>[32, 35, 37, 37, 39, 38, 39, 38, 36, 35, 34, 22]</td>\n",
              "    </tr>\n",
              "    <tr>\n",
              "      <th>4</th>\n",
              "      <td>1</td>\n",
              "      <td>[28, 35, 34, 33, 29, 26, 27, 28, 24, 16, 18, 10]</td>\n",
              "    </tr>\n",
              "  </tbody>\n",
              "</table>\n",
              "</div>"
            ],
            "text/plain": [
              "   label                                             speed\n",
              "0      1  [30, 26, 25, 23, 23, 26, 25, 24, 23, 19, 19, 14]\n",
              "1      1  [25, 19, 15, 16, 20, 21, 20, 19, 20, 24, 29, 16]\n",
              "2      1  [26, 27, 28, 32, 33, 35, 35, 35, 35, 37, 34, 15]\n",
              "3      1  [32, 35, 37, 37, 39, 38, 39, 38, 36, 35, 34, 22]\n",
              "4      1  [28, 35, 34, 33, 29, 26, 27, 28, 24, 16, 18, 10]"
            ]
          },
          "metadata": {
            "tags": []
          },
          "execution_count": 8
        }
      ]
    },
    {
      "metadata": {
        "id": "O4o_dkzYBcos",
        "colab_type": "code",
        "colab": {
          "base_uri": "https://localhost:8080/",
          "height": 343
        },
        "outputId": "cf69ec79-2858-4435-f0b5-e2265827e647"
      },
      "cell_type": "code",
      "source": [
        "df.tail(10)"
      ],
      "execution_count": 9,
      "outputs": [
        {
          "output_type": "execute_result",
          "data": {
            "text/html": [
              "<div>\n",
              "<style scoped>\n",
              "    .dataframe tbody tr th:only-of-type {\n",
              "        vertical-align: middle;\n",
              "    }\n",
              "\n",
              "    .dataframe tbody tr th {\n",
              "        vertical-align: top;\n",
              "    }\n",
              "\n",
              "    .dataframe thead th {\n",
              "        text-align: right;\n",
              "    }\n",
              "</style>\n",
              "<table border=\"1\" class=\"dataframe\">\n",
              "  <thead>\n",
              "    <tr style=\"text-align: right;\">\n",
              "      <th></th>\n",
              "      <th>label</th>\n",
              "      <th>speed</th>\n",
              "    </tr>\n",
              "  </thead>\n",
              "  <tbody>\n",
              "    <tr>\n",
              "      <th>5756</th>\n",
              "      <td>0</td>\n",
              "      <td>[36, 32, 30, 29, 27, 28, 26, 24, 29, 30, 32, 34]</td>\n",
              "    </tr>\n",
              "    <tr>\n",
              "      <th>5757</th>\n",
              "      <td>0</td>\n",
              "      <td>[33, 29, 30, 32, 28, 26, 26, 27, 23, 19, 16, 14]</td>\n",
              "    </tr>\n",
              "    <tr>\n",
              "      <th>5758</th>\n",
              "      <td>0</td>\n",
              "      <td>[25, 29, 32, 36, 36, 36, 38, 38, 38, 40, 42, 41]</td>\n",
              "    </tr>\n",
              "    <tr>\n",
              "      <th>5759</th>\n",
              "      <td>0</td>\n",
              "      <td>[53, 52, 53, 53, 53, 52, 53, 53, 54, 54, 54, 54]</td>\n",
              "    </tr>\n",
              "    <tr>\n",
              "      <th>5760</th>\n",
              "      <td>0</td>\n",
              "      <td>[53, 50, 54, 55, 56, 52, 53, 45, 53, 47, 42, 42]</td>\n",
              "    </tr>\n",
              "    <tr>\n",
              "      <th>5761</th>\n",
              "      <td>0</td>\n",
              "      <td>[38, 37, 37, 38, 37, 35, 36, 35, 38, 36, 36, 35]</td>\n",
              "    </tr>\n",
              "    <tr>\n",
              "      <th>5762</th>\n",
              "      <td>0</td>\n",
              "      <td>[15, 27, 21, 18, 30, 24, 22, 21, 23, 27, 24, 29]</td>\n",
              "    </tr>\n",
              "    <tr>\n",
              "      <th>5763</th>\n",
              "      <td>0</td>\n",
              "      <td>[32, 32, 34, 33, 32, 35, 37, 38, 39, 39, 41, 41]</td>\n",
              "    </tr>\n",
              "    <tr>\n",
              "      <th>5764</th>\n",
              "      <td>0</td>\n",
              "      <td>[44, 41, 39, 43, 43, 39, 42, 43, 42, 41, 43, 45]</td>\n",
              "    </tr>\n",
              "    <tr>\n",
              "      <th>5765</th>\n",
              "      <td>0</td>\n",
              "      <td>[21, 26, 27, 32, 31, 29, 32, 28, 30, 35, 32, 34]</td>\n",
              "    </tr>\n",
              "  </tbody>\n",
              "</table>\n",
              "</div>"
            ],
            "text/plain": [
              "      label                                             speed\n",
              "5756      0  [36, 32, 30, 29, 27, 28, 26, 24, 29, 30, 32, 34]\n",
              "5757      0  [33, 29, 30, 32, 28, 26, 26, 27, 23, 19, 16, 14]\n",
              "5758      0  [25, 29, 32, 36, 36, 36, 38, 38, 38, 40, 42, 41]\n",
              "5759      0  [53, 52, 53, 53, 53, 52, 53, 53, 54, 54, 54, 54]\n",
              "5760      0  [53, 50, 54, 55, 56, 52, 53, 45, 53, 47, 42, 42]\n",
              "5761      0  [38, 37, 37, 38, 37, 35, 36, 35, 38, 36, 36, 35]\n",
              "5762      0  [15, 27, 21, 18, 30, 24, 22, 21, 23, 27, 24, 29]\n",
              "5763      0  [32, 32, 34, 33, 32, 35, 37, 38, 39, 39, 41, 41]\n",
              "5764      0  [44, 41, 39, 43, 43, 39, 42, 43, 42, 41, 43, 45]\n",
              "5765      0  [21, 26, 27, 32, 31, 29, 32, 28, 30, 35, 32, 34]"
            ]
          },
          "metadata": {
            "tags": []
          },
          "execution_count": 9
        }
      ]
    },
    {
      "metadata": {
        "id": "oyhAlKrzB0eM",
        "colab_type": "code",
        "colab": {
          "base_uri": "https://localhost:8080/",
          "height": 34
        },
        "outputId": "53bf7fd2-a569-4f9c-ef50-56b75677ce6b"
      },
      "cell_type": "code",
      "source": [
        "import numpy as np\n",
        "from keras.utils import to_categorical\n",
        "from keras.preprocessing.sequence import pad_sequences"
      ],
      "execution_count": 10,
      "outputs": [
        {
          "output_type": "stream",
          "text": [
            "Using TensorFlow backend.\n"
          ],
          "name": "stderr"
        }
      ]
    },
    {
      "metadata": {
        "id": "vbqXgR0jClhZ",
        "colab_type": "code",
        "colab": {
          "base_uri": "https://localhost:8080/",
          "height": 101
        },
        "outputId": "e5885fc4-e1cd-4cc2-f0b0-7d8d6de8190e"
      },
      "cell_type": "code",
      "source": [
        "sequences =others_list+traffic_data_list\n",
        "sequences[:5]"
      ],
      "execution_count": 14,
      "outputs": [
        {
          "output_type": "execute_result",
          "data": {
            "text/plain": [
              "[[27, 28, 27, 27, 26, 26, 25, 23, 29, 28, 29, 28],\n",
              " [38, 34, 36, 37, 35, 36, 35, 33, 35, 35, 29, 26],\n",
              " [49, 47, 46, 47, 45, 49, 50, 45, 46, 46, 46, 46],\n",
              " [19, 23, 24, 24, 28, 29, 30, 33, 35, 34, 33, 31],\n",
              " [33, 33, 36, 34, 27, 31, 32, 33, 32, 35, 32, 36]]"
            ]
          },
          "metadata": {
            "tags": []
          },
          "execution_count": 14
        }
      ]
    },
    {
      "metadata": {
        "id": "ZDjjqVHiCu13",
        "colab_type": "code",
        "colab": {
          "base_uri": "https://localhost:8080/",
          "height": 134
        },
        "outputId": "a4ec1ce3-7522-4ff3-8a71-9a1d4b1c7ed6"
      },
      "cell_type": "code",
      "source": [
        "data = pad_sequences(sequences, maxlen=12)\n",
        "data"
      ],
      "execution_count": 15,
      "outputs": [
        {
          "output_type": "execute_result",
          "data": {
            "text/plain": [
              "array([[27, 28, 27, ..., 28, 29, 28],\n",
              "       [38, 34, 36, ..., 35, 29, 26],\n",
              "       [49, 47, 46, ..., 46, 46, 46],\n",
              "       ...,\n",
              "       [31, 30, 33, ..., 34, 30, 14],\n",
              "       [33, 35, 30, ..., 21, 15, 11],\n",
              "       [45, 44, 46, ..., 44, 30, 12]], dtype=int32)"
            ]
          },
          "metadata": {
            "tags": []
          },
          "execution_count": 15
        }
      ]
    },
    {
      "metadata": {
        "id": "satlCapkDQzr",
        "colab_type": "code",
        "colab": {
          "base_uri": "https://localhost:8080/",
          "height": 34
        },
        "outputId": "6edff7a1-4f79-4100-83e6-599ef8fd47c4"
      },
      "cell_type": "code",
      "source": [
        "labels = np.array(df.label)\n",
        "labels"
      ],
      "execution_count": 16,
      "outputs": [
        {
          "output_type": "execute_result",
          "data": {
            "text/plain": [
              "array([1, 1, 1, ..., 0, 0, 0])"
            ]
          },
          "metadata": {
            "tags": []
          },
          "execution_count": 16
        }
      ]
    },
    {
      "metadata": {
        "id": "5r-_txvHDYzg",
        "colab_type": "code",
        "colab": {}
      },
      "cell_type": "code",
      "source": [
        "np.random.seed(12)"
      ],
      "execution_count": 0,
      "outputs": []
    },
    {
      "metadata": {
        "id": "4gX8752QDZRH",
        "colab_type": "code",
        "colab": {}
      },
      "cell_type": "code",
      "source": [
        "indices = np.arange(data.shape[0])\n",
        "np.random.shuffle(indices)\n",
        "data = data[indices]\n",
        "labels = labels[indices]"
      ],
      "execution_count": 0,
      "outputs": []
    },
    {
      "metadata": {
        "id": "-cS27Y7dDfne",
        "colab_type": "code",
        "colab": {}
      },
      "cell_type": "code",
      "source": [
        "training_samples = int(len(indices) * .8)\n",
        "validation_samples = len(indices) - training_samples"
      ],
      "execution_count": 0,
      "outputs": []
    },
    {
      "metadata": {
        "id": "ff9F0dykDhvG",
        "colab_type": "code",
        "colab": {}
      },
      "cell_type": "code",
      "source": [
        "X_train = data[:training_samples]\n",
        "y_train = labels[:training_samples]\n",
        "X_valid = data[training_samples: training_samples + validation_samples]\n",
        "y_valid = labels[training_samples: training_samples + validation_samples]"
      ],
      "execution_count": 0,
      "outputs": []
    },
    {
      "metadata": {
        "id": "Os3wT8zvDiw-",
        "colab_type": "code",
        "colab": {
          "base_uri": "https://localhost:8080/",
          "height": 134
        },
        "outputId": "8a2b9afe-2201-4794-e1d3-3fa21487d30e"
      },
      "cell_type": "code",
      "source": [
        "X_train"
      ],
      "execution_count": 21,
      "outputs": [
        {
          "output_type": "execute_result",
          "data": {
            "text/plain": [
              "array([[42, 41, 39, ..., 21, 14, 11],\n",
              "       [23, 30, 29, ..., 17, 15, 15],\n",
              "       [10, 17, 24, ..., 14, 13, 10],\n",
              "       ...,\n",
              "       [32, 20, 26, ..., 34, 35, 34],\n",
              "       [20, 20, 20, ..., 17, 17, 19],\n",
              "       [47, 47, 46, ..., 16, 17, 11]], dtype=int32)"
            ]
          },
          "metadata": {
            "tags": []
          },
          "execution_count": 21
        }
      ]
    },
    {
      "metadata": {
        "id": "eeudV4kgDo41",
        "colab_type": "code",
        "colab": {}
      },
      "cell_type": "code",
      "source": [
        "num_events = 74"
      ],
      "execution_count": 0,
      "outputs": []
    },
    {
      "metadata": {
        "id": "Io2j4wQbDs0J",
        "colab_type": "code",
        "colab": {}
      },
      "cell_type": "code",
      "source": [
        "embedding_dim = 20\n",
        "embedding_matrix = np.random.rand(num_events, embedding_dim)"
      ],
      "execution_count": 0,
      "outputs": []
    },
    {
      "metadata": {
        "id": "wjGN3K2rDwWo",
        "colab_type": "code",
        "colab": {}
      },
      "cell_type": "code",
      "source": [
        "from keras.models import Sequential\n",
        "from keras.layers import Embedding, Flatten, Dense, LSTM\n",
        "\n",
        "units = 32\n",
        "\n",
        "model = Sequential()\n",
        "model.add(Embedding(num_events, embedding_dim))\n",
        "model.add(LSTM(units))\n",
        "model.add(Dense(1, activation='sigmoid'))"
      ],
      "execution_count": 0,
      "outputs": []
    },
    {
      "metadata": {
        "id": "NKyd7r-yD0go",
        "colab_type": "code",
        "colab": {}
      },
      "cell_type": "code",
      "source": [
        "model.layers[0].set_weights([embedding_matrix])\n",
        "model.layers[0].trainable = False"
      ],
      "execution_count": 0,
      "outputs": []
    },
    {
      "metadata": {
        "id": "ae8MdvcHD27H",
        "colab_type": "code",
        "colab": {
          "base_uri": "https://localhost:8080/",
          "height": 1714
        },
        "outputId": "26563e12-17d1-45c1-ccd2-99426bb68b75"
      },
      "cell_type": "code",
      "source": [
        "model.compile(optimizer='rmsprop',\n",
        "              loss='binary_crossentropy',\n",
        "              metrics=['acc'])\n",
        "history = model.fit(X_train, y_train,\n",
        "                    epochs=50,\n",
        "                    batch_size=32,\n",
        "                    validation_data=(X_valid, y_valid))\n",
        "model.save(\"mymodel_embedding_untrainable.h5\")"
      ],
      "execution_count": 41,
      "outputs": [
        {
          "output_type": "stream",
          "text": [
            "Train on 4612 samples, validate on 1154 samples\n",
            "Epoch 1/50\n",
            "4612/4612 [==============================] - 3s 641us/step - loss: 0.6033 - acc: 0.6917 - val_loss: 0.6339 - val_acc: 0.6308\n",
            "Epoch 2/50\n",
            "4612/4612 [==============================] - 1s 289us/step - loss: 0.5005 - acc: 0.7656 - val_loss: 0.4832 - val_acc: 0.7790\n",
            "Epoch 3/50\n",
            "4612/4612 [==============================] - 1s 292us/step - loss: 0.4463 - acc: 0.8018 - val_loss: 0.4473 - val_acc: 0.7972\n",
            "Epoch 4/50\n",
            "4612/4612 [==============================] - 1s 283us/step - loss: 0.4103 - acc: 0.8246 - val_loss: 0.4102 - val_acc: 0.8180\n",
            "Epoch 5/50\n",
            "4612/4612 [==============================] - 1s 292us/step - loss: 0.3776 - acc: 0.8480 - val_loss: 0.3977 - val_acc: 0.8388\n",
            "Epoch 6/50\n",
            "4612/4612 [==============================] - 1s 301us/step - loss: 0.3547 - acc: 0.8526 - val_loss: 0.3777 - val_acc: 0.8510\n",
            "Epoch 7/50\n",
            "4612/4612 [==============================] - 1s 297us/step - loss: 0.3342 - acc: 0.8638 - val_loss: 0.3575 - val_acc: 0.8449\n",
            "Epoch 8/50\n",
            "4612/4612 [==============================] - 1s 288us/step - loss: 0.3216 - acc: 0.8701 - val_loss: 0.3989 - val_acc: 0.8111\n",
            "Epoch 9/50\n",
            "4612/4612 [==============================] - 1s 292us/step - loss: 0.3072 - acc: 0.8784 - val_loss: 0.3211 - val_acc: 0.8726\n",
            "Epoch 10/50\n",
            "4612/4612 [==============================] - 1s 301us/step - loss: 0.2975 - acc: 0.8810 - val_loss: 0.3185 - val_acc: 0.8778\n",
            "Epoch 11/50\n",
            "4612/4612 [==============================] - 1s 293us/step - loss: 0.2852 - acc: 0.8903 - val_loss: 0.3895 - val_acc: 0.8267\n",
            "Epoch 12/50\n",
            "4612/4612 [==============================] - 1s 293us/step - loss: 0.2774 - acc: 0.8925 - val_loss: 0.2925 - val_acc: 0.8839\n",
            "Epoch 13/50\n",
            "4612/4612 [==============================] - 1s 302us/step - loss: 0.2706 - acc: 0.8925 - val_loss: 0.3173 - val_acc: 0.8761\n",
            "Epoch 14/50\n",
            "4612/4612 [==============================] - 1s 299us/step - loss: 0.2626 - acc: 0.8970 - val_loss: 0.2803 - val_acc: 0.8856\n",
            "Epoch 15/50\n",
            "4612/4612 [==============================] - 1s 303us/step - loss: 0.2598 - acc: 0.9000 - val_loss: 0.2953 - val_acc: 0.8761\n",
            "Epoch 16/50\n",
            "4612/4612 [==============================] - 1s 300us/step - loss: 0.2529 - acc: 0.8996 - val_loss: 0.3078 - val_acc: 0.8752\n",
            "Epoch 17/50\n",
            "4612/4612 [==============================] - 1s 312us/step - loss: 0.2487 - acc: 0.9065 - val_loss: 0.2886 - val_acc: 0.8856\n",
            "Epoch 18/50\n",
            "4612/4612 [==============================] - 1s 303us/step - loss: 0.2445 - acc: 0.9052 - val_loss: 0.2895 - val_acc: 0.8830\n",
            "Epoch 19/50\n",
            "4612/4612 [==============================] - 1s 293us/step - loss: 0.2380 - acc: 0.9105 - val_loss: 0.3044 - val_acc: 0.8778\n",
            "Epoch 20/50\n",
            "4612/4612 [==============================] - 1s 289us/step - loss: 0.2378 - acc: 0.9070 - val_loss: 0.2781 - val_acc: 0.8847\n",
            "Epoch 21/50\n",
            "4612/4612 [==============================] - 1s 283us/step - loss: 0.2327 - acc: 0.9120 - val_loss: 0.3415 - val_acc: 0.8588\n",
            "Epoch 22/50\n",
            "4612/4612 [==============================] - 1s 285us/step - loss: 0.2296 - acc: 0.9163 - val_loss: 0.2764 - val_acc: 0.8934\n",
            "Epoch 23/50\n",
            "4612/4612 [==============================] - 1s 288us/step - loss: 0.2275 - acc: 0.9144 - val_loss: 0.2546 - val_acc: 0.9073\n",
            "Epoch 24/50\n",
            "4612/4612 [==============================] - 1s 288us/step - loss: 0.2220 - acc: 0.9174 - val_loss: 0.2515 - val_acc: 0.9038\n",
            "Epoch 25/50\n",
            "4612/4612 [==============================] - 1s 290us/step - loss: 0.2183 - acc: 0.9180 - val_loss: 0.2532 - val_acc: 0.9064\n",
            "Epoch 26/50\n",
            "4612/4612 [==============================] - 1s 291us/step - loss: 0.2166 - acc: 0.9204 - val_loss: 0.2601 - val_acc: 0.9055\n",
            "Epoch 27/50\n",
            "4612/4612 [==============================] - 1s 300us/step - loss: 0.2100 - acc: 0.9256 - val_loss: 0.2599 - val_acc: 0.8969\n",
            "Epoch 28/50\n",
            "4612/4612 [==============================] - 1s 293us/step - loss: 0.2058 - acc: 0.9239 - val_loss: 0.2529 - val_acc: 0.9055\n",
            "Epoch 29/50\n",
            "4612/4612 [==============================] - 1s 289us/step - loss: 0.2047 - acc: 0.9241 - val_loss: 0.2425 - val_acc: 0.9133\n",
            "Epoch 30/50\n",
            "4612/4612 [==============================] - 1s 285us/step - loss: 0.2001 - acc: 0.9271 - val_loss: 0.2554 - val_acc: 0.9047\n",
            "Epoch 31/50\n",
            "4612/4612 [==============================] - 1s 284us/step - loss: 0.1976 - acc: 0.9306 - val_loss: 0.2362 - val_acc: 0.9090\n",
            "Epoch 32/50\n",
            "4612/4612 [==============================] - 1s 287us/step - loss: 0.1944 - acc: 0.9278 - val_loss: 0.2441 - val_acc: 0.9090\n",
            "Epoch 33/50\n",
            "4612/4612 [==============================] - 1s 280us/step - loss: 0.1918 - acc: 0.9308 - val_loss: 0.2415 - val_acc: 0.9151\n",
            "Epoch 34/50\n",
            "4612/4612 [==============================] - 1s 282us/step - loss: 0.1876 - acc: 0.9317 - val_loss: 0.2515 - val_acc: 0.9125\n",
            "Epoch 35/50\n",
            "4612/4612 [==============================] - 1s 279us/step - loss: 0.1855 - acc: 0.9345 - val_loss: 0.2458 - val_acc: 0.9055\n",
            "Epoch 36/50\n",
            "4612/4612 [==============================] - 1s 278us/step - loss: 0.1816 - acc: 0.9321 - val_loss: 0.2470 - val_acc: 0.9099\n",
            "Epoch 37/50\n",
            "4612/4612 [==============================] - 1s 281us/step - loss: 0.1805 - acc: 0.9356 - val_loss: 0.2724 - val_acc: 0.9003\n",
            "Epoch 38/50\n",
            "4612/4612 [==============================] - 1s 283us/step - loss: 0.1749 - acc: 0.9389 - val_loss: 0.2897 - val_acc: 0.8995\n",
            "Epoch 39/50\n",
            "4612/4612 [==============================] - 1s 287us/step - loss: 0.1744 - acc: 0.9380 - val_loss: 0.2442 - val_acc: 0.9125\n",
            "Epoch 40/50\n",
            "4612/4612 [==============================] - 1s 276us/step - loss: 0.1701 - acc: 0.9376 - val_loss: 0.2526 - val_acc: 0.9073\n",
            "Epoch 41/50\n",
            "4612/4612 [==============================] - 1s 280us/step - loss: 0.1653 - acc: 0.9406 - val_loss: 0.2428 - val_acc: 0.9168\n",
            "Epoch 42/50\n",
            "4612/4612 [==============================] - 1s 285us/step - loss: 0.1640 - acc: 0.9386 - val_loss: 0.2596 - val_acc: 0.9047\n",
            "Epoch 43/50\n",
            "4612/4612 [==============================] - 1s 278us/step - loss: 0.1610 - acc: 0.9417 - val_loss: 0.2639 - val_acc: 0.8995\n",
            "Epoch 44/50\n",
            "4612/4612 [==============================] - 1s 273us/step - loss: 0.1578 - acc: 0.9443 - val_loss: 0.3013 - val_acc: 0.8925\n",
            "Epoch 45/50\n",
            "4612/4612 [==============================] - 1s 282us/step - loss: 0.1539 - acc: 0.9460 - val_loss: 0.3426 - val_acc: 0.8752\n",
            "Epoch 46/50\n",
            "4612/4612 [==============================] - 1s 279us/step - loss: 0.1524 - acc: 0.9464 - val_loss: 0.2721 - val_acc: 0.9047\n",
            "Epoch 47/50\n",
            "4612/4612 [==============================] - 1s 289us/step - loss: 0.1470 - acc: 0.9480 - val_loss: 0.2549 - val_acc: 0.9133\n",
            "Epoch 48/50\n",
            "4612/4612 [==============================] - 1s 291us/step - loss: 0.1451 - acc: 0.9480 - val_loss: 0.2662 - val_acc: 0.8951\n",
            "Epoch 49/50\n",
            "4612/4612 [==============================] - 1s 283us/step - loss: 0.1434 - acc: 0.9508 - val_loss: 0.2693 - val_acc: 0.9029\n",
            "Epoch 50/50\n",
            "4612/4612 [==============================] - 1s 285us/step - loss: 0.1379 - acc: 0.9488 - val_loss: 0.2713 - val_acc: 0.8986\n"
          ],
          "name": "stdout"
        }
      ]
    },
    {
      "metadata": {
        "id": "CwrmtnQIFps2",
        "colab_type": "code",
        "colab": {
          "base_uri": "https://localhost:8080/",
          "height": 706
        },
        "outputId": "52bce54f-fe95-40cf-ad53-c81c9299d46b"
      },
      "cell_type": "code",
      "source": [
        "import matplotlib.pyplot as plt\n",
        "\n",
        "acc = history.history['acc']\n",
        "val_acc = history.history['val_acc']\n",
        "loss = history.history['loss']\n",
        "val_loss = history.history['val_loss']\n",
        "\n",
        "epochs = range(1, len(acc) + 1)\n",
        "\n",
        "plt.plot(epochs, acc, 'bo', label='Training acc')\n",
        "plt.plot(epochs, val_acc, 'b', label='Validation acc')\n",
        "plt.title('Training and validation accuracy')\n",
        "plt.legend()\n",
        "\n",
        "plt.figure()\n",
        "\n",
        "plt.plot(epochs, loss, 'bo', label='Training loss')\n",
        "plt.plot(epochs, val_loss, 'b', label='Validation loss')\n",
        "plt.title('Training and validation loss')\n",
        "plt.legend()\n",
        "\n",
        "plt.show()"
      ],
      "execution_count": 42,
      "outputs": [
        {
          "output_type": "display_data",
          "data": {
            "image/png": "[encoded data removed]",
            "text/plain": [
              "<Figure size 576x396 with 1 Axes>"
            ]
          },
          "metadata": {
            "tags": []
          }
        },
        {
          "output_type": "display_data",
          "data": {
            "image/png": "[encoded data removed]",
            "text/plain": [
              "<Figure size 576x396 with 1 Axes>"
            ]
          },
          "metadata": {
            "tags": []
          }
        }
      ]
    },
    {
      "metadata": {
        "id": "J8rzlyo1FwVa",
        "colab_type": "code",
        "colab": {}
      },
      "cell_type": "code",
      "source": [
        "from keras.models import Sequential\n",
        "from keras.layers import Embedding, Flatten, Dense, LSTM\n",
        "\n",
        "units = 32\n",
        "\n",
        "model = Sequential()\n",
        "model.add(Embedding(num_events, embedding_dim))\n",
        "model.add(LSTM(units))\n",
        "model.add(Dense(1, activation='sigmoid'))"
      ],
      "execution_count": 0,
      "outputs": []
    },
    {
      "metadata": {
        "id": "q3u9u1e1GVk7",
        "colab_type": "code",
        "colab": {}
      },
      "cell_type": "code",
      "source": [
        "model.layers[0].set_weights([embedding_matrix])\n",
        "model.layers[0].trainable = True"
      ],
      "execution_count": 0,
      "outputs": []
    },
    {
      "metadata": {
        "id": "kHNGWIB9GXM8",
        "colab_type": "code",
        "colab": {
          "base_uri": "https://localhost:8080/",
          "height": 1714
        },
        "outputId": "b26a3d73-2e2c-4fe1-ed66-11216b642f23"
      },
      "cell_type": "code",
      "source": [
        "model.compile(optimizer='rmsprop',\n",
        "              loss='binary_crossentropy',\n",
        "              metrics=['acc'])\n",
        "history = model.fit(X_train, y_train,\n",
        "                    epochs=50,\n",
        "                    batch_size=32,\n",
        "                    validation_data=(X_valid, y_valid))\n",
        "model.save(\"mymodel_embedding_trainable.h5\")"
      ],
      "execution_count": 45,
      "outputs": [
        {
          "output_type": "stream",
          "text": [
            "Train on 4612 samples, validate on 1154 samples\n",
            "Epoch 1/50\n",
            "4612/4612 [==============================] - 3s 704us/step - loss: 0.5161 - acc: 0.7658 - val_loss: 0.4035 - val_acc: 0.8267\n",
            "Epoch 2/50\n",
            "4612/4612 [==============================] - 2s 338us/step - loss: 0.3122 - acc: 0.8838 - val_loss: 0.2606 - val_acc: 0.8934\n",
            "Epoch 3/50\n",
            "4612/4612 [==============================] - 1s 314us/step - loss: 0.2190 - acc: 0.9200 - val_loss: 0.2203 - val_acc: 0.9341\n",
            "Epoch 4/50\n",
            "4612/4612 [==============================] - 1s 321us/step - loss: 0.1848 - acc: 0.9328 - val_loss: 0.1794 - val_acc: 0.9367\n",
            "Epoch 5/50\n",
            "4612/4612 [==============================] - 1s 324us/step - loss: 0.1686 - acc: 0.9395 - val_loss: 0.1710 - val_acc: 0.9376\n",
            "Epoch 6/50\n",
            "4612/4612 [==============================] - 2s 344us/step - loss: 0.1623 - acc: 0.9410 - val_loss: 0.1690 - val_acc: 0.9376\n",
            "Epoch 7/50\n",
            "4612/4612 [==============================] - 2s 342us/step - loss: 0.1582 - acc: 0.9438 - val_loss: 0.1671 - val_acc: 0.9402\n",
            "Epoch 8/50\n",
            "4612/4612 [==============================] - 1s 319us/step - loss: 0.1564 - acc: 0.9417 - val_loss: 0.1681 - val_acc: 0.9393\n",
            "Epoch 9/50\n",
            "4612/4612 [==============================] - 1s 307us/step - loss: 0.1540 - acc: 0.9445 - val_loss: 0.1673 - val_acc: 0.9393\n",
            "Epoch 10/50\n",
            "4612/4612 [==============================] - 1s 318us/step - loss: 0.1514 - acc: 0.9443 - val_loss: 0.1711 - val_acc: 0.9341\n",
            "Epoch 11/50\n",
            "4612/4612 [==============================] - 2s 331us/step - loss: 0.1503 - acc: 0.9451 - val_loss: 0.1648 - val_acc: 0.9393\n",
            "Epoch 12/50\n",
            "4612/4612 [==============================] - 2s 353us/step - loss: 0.1480 - acc: 0.9443 - val_loss: 0.1733 - val_acc: 0.9385\n",
            "Epoch 13/50\n",
            "4612/4612 [==============================] - 2s 339us/step - loss: 0.1454 - acc: 0.9464 - val_loss: 0.1671 - val_acc: 0.9419\n",
            "Epoch 14/50\n",
            "4612/4612 [==============================] - 1s 311us/step - loss: 0.1426 - acc: 0.9475 - val_loss: 0.1674 - val_acc: 0.9393\n",
            "Epoch 15/50\n",
            "4612/4612 [==============================] - 1s 304us/step - loss: 0.1401 - acc: 0.9486 - val_loss: 0.1700 - val_acc: 0.9402\n",
            "Epoch 16/50\n",
            "4612/4612 [==============================] - 1s 312us/step - loss: 0.1390 - acc: 0.9480 - val_loss: 0.1640 - val_acc: 0.9419\n",
            "Epoch 17/50\n",
            "4612/4612 [==============================] - 1s 318us/step - loss: 0.1360 - acc: 0.9497 - val_loss: 0.1650 - val_acc: 0.9419\n",
            "Epoch 18/50\n",
            "4612/4612 [==============================] - 1s 318us/step - loss: 0.1339 - acc: 0.9488 - val_loss: 0.1852 - val_acc: 0.9350\n",
            "Epoch 19/50\n",
            "4612/4612 [==============================] - 1s 317us/step - loss: 0.1316 - acc: 0.9497 - val_loss: 0.1740 - val_acc: 0.9437\n",
            "Epoch 20/50\n",
            "4612/4612 [==============================] - 1s 322us/step - loss: 0.1286 - acc: 0.9527 - val_loss: 0.1703 - val_acc: 0.9411\n",
            "Epoch 21/50\n",
            "4612/4612 [==============================] - 1s 305us/step - loss: 0.1280 - acc: 0.9532 - val_loss: 0.1698 - val_acc: 0.9437\n",
            "Epoch 22/50\n",
            "4612/4612 [==============================] - 1s 306us/step - loss: 0.1256 - acc: 0.9542 - val_loss: 0.1706 - val_acc: 0.9454\n",
            "Epoch 23/50\n",
            "4612/4612 [==============================] - 1s 310us/step - loss: 0.1243 - acc: 0.9540 - val_loss: 0.1809 - val_acc: 0.9428\n",
            "Epoch 24/50\n",
            "4612/4612 [==============================] - 1s 319us/step - loss: 0.1219 - acc: 0.9564 - val_loss: 0.1754 - val_acc: 0.9419\n",
            "Epoch 25/50\n",
            "4612/4612 [==============================] - 1s 324us/step - loss: 0.1192 - acc: 0.9579 - val_loss: 0.1872 - val_acc: 0.9393\n",
            "Epoch 26/50\n",
            "4612/4612 [==============================] - 2s 331us/step - loss: 0.1182 - acc: 0.9577 - val_loss: 0.1760 - val_acc: 0.9419\n",
            "Epoch 27/50\n",
            "4612/4612 [==============================] - 2s 330us/step - loss: 0.1159 - acc: 0.9562 - val_loss: 0.1818 - val_acc: 0.9437\n",
            "Epoch 28/50\n",
            "4612/4612 [==============================] - 1s 321us/step - loss: 0.1133 - acc: 0.9573 - val_loss: 0.1787 - val_acc: 0.9445\n",
            "Epoch 29/50\n",
            "4612/4612 [==============================] - 1s 305us/step - loss: 0.1125 - acc: 0.9590 - val_loss: 0.1808 - val_acc: 0.9411\n",
            "Epoch 30/50\n",
            "4612/4612 [==============================] - 1s 319us/step - loss: 0.1104 - acc: 0.9610 - val_loss: 0.1857 - val_acc: 0.9385\n",
            "Epoch 31/50\n",
            "4612/4612 [==============================] - 1s 313us/step - loss: 0.1080 - acc: 0.9597 - val_loss: 0.1837 - val_acc: 0.9385\n",
            "Epoch 32/50\n",
            "4612/4612 [==============================] - 2s 328us/step - loss: 0.1040 - acc: 0.9608 - val_loss: 0.1896 - val_acc: 0.9428\n",
            "Epoch 33/50\n",
            "4612/4612 [==============================] - 2s 340us/step - loss: 0.1023 - acc: 0.9629 - val_loss: 0.1887 - val_acc: 0.9437\n",
            "Epoch 34/50\n",
            "4612/4612 [==============================] - 2s 332us/step - loss: 0.0991 - acc: 0.9653 - val_loss: 0.1893 - val_acc: 0.9454\n",
            "Epoch 35/50\n",
            "4612/4612 [==============================] - 2s 333us/step - loss: 0.0972 - acc: 0.9636 - val_loss: 0.2057 - val_acc: 0.9359\n",
            "Epoch 36/50\n",
            "4612/4612 [==============================] - 2s 334us/step - loss: 0.0943 - acc: 0.9662 - val_loss: 0.1950 - val_acc: 0.9428\n",
            "Epoch 37/50\n",
            "4612/4612 [==============================] - 2s 331us/step - loss: 0.0922 - acc: 0.9664 - val_loss: 0.1976 - val_acc: 0.9437\n",
            "Epoch 38/50\n",
            "4612/4612 [==============================] - 2s 332us/step - loss: 0.0900 - acc: 0.9686 - val_loss: 0.2059 - val_acc: 0.9411\n",
            "Epoch 39/50\n",
            "4612/4612 [==============================] - 2s 333us/step - loss: 0.0872 - acc: 0.9692 - val_loss: 0.2095 - val_acc: 0.9341\n",
            "Epoch 40/50\n",
            "4612/4612 [==============================] - 2s 335us/step - loss: 0.0829 - acc: 0.9740 - val_loss: 0.2154 - val_acc: 0.9298\n",
            "Epoch 41/50\n",
            "4612/4612 [==============================] - 2s 339us/step - loss: 0.0808 - acc: 0.9705 - val_loss: 0.2167 - val_acc: 0.9367\n",
            "Epoch 42/50\n",
            "4612/4612 [==============================] - 2s 331us/step - loss: 0.0788 - acc: 0.9731 - val_loss: 0.2234 - val_acc: 0.9341\n",
            "Epoch 43/50\n",
            "4612/4612 [==============================] - 2s 338us/step - loss: 0.0745 - acc: 0.9761 - val_loss: 0.2212 - val_acc: 0.9376\n",
            "Epoch 44/50\n",
            "4612/4612 [==============================] - 2s 338us/step - loss: 0.0716 - acc: 0.9744 - val_loss: 0.2293 - val_acc: 0.9341\n",
            "Epoch 45/50\n",
            "4612/4612 [==============================] - 2s 328us/step - loss: 0.0697 - acc: 0.9779 - val_loss: 0.2333 - val_acc: 0.9376\n",
            "Epoch 46/50\n",
            "4612/4612 [==============================] - 2s 327us/step - loss: 0.0687 - acc: 0.9761 - val_loss: 0.2328 - val_acc: 0.9367\n",
            "Epoch 47/50\n",
            "4612/4612 [==============================] - 2s 338us/step - loss: 0.0640 - acc: 0.9785 - val_loss: 0.2484 - val_acc: 0.9281\n",
            "Epoch 48/50\n",
            "4612/4612 [==============================] - 2s 338us/step - loss: 0.0606 - acc: 0.9790 - val_loss: 0.2473 - val_acc: 0.9315\n",
            "Epoch 49/50\n",
            "4612/4612 [==============================] - 2s 338us/step - loss: 0.0603 - acc: 0.9816 - val_loss: 0.2544 - val_acc: 0.9307\n",
            "Epoch 50/50\n",
            "4612/4612 [==============================] - 2s 334us/step - loss: 0.0560 - acc: 0.9827 - val_loss: 0.2626 - val_acc: 0.9350\n"
          ],
          "name": "stdout"
        }
      ]
    },
    {
      "metadata": {
        "id": "6g6ngnxQGYwT",
        "colab_type": "code",
        "colab": {
          "base_uri": "https://localhost:8080/",
          "height": 706
        },
        "outputId": "b129e467-bb8f-4ebd-8566-fcfbac6ac980"
      },
      "cell_type": "code",
      "source": [
        "import matplotlib.pyplot as plt\n",
        "\n",
        "acc = history.history['acc']\n",
        "val_acc = history.history['val_acc']\n",
        "loss = history.history['loss']\n",
        "val_loss = history.history['val_loss']\n",
        "\n",
        "epochs = range(1, len(acc) + 1)\n",
        "\n",
        "plt.plot(epochs, acc, 'bo', label='Training acc')\n",
        "plt.plot(epochs, val_acc, 'b', label='Validation acc')\n",
        "plt.title('Training and validation accuracy')\n",
        "plt.legend()\n",
        "\n",
        "plt.figure()\n",
        "\n",
        "plt.plot(epochs, loss, 'bo', label='Training loss')\n",
        "plt.plot(epochs, val_loss, 'b', label='Validation loss')\n",
        "plt.title('Training and validation loss')\n",
        "plt.legend()\n",
        "\n",
        "plt.show()"
      ],
      "execution_count": 46,
      "outputs": [
        {
          "output_type": "display_data",
          "data": {
            "image/png": "[encoded data removed]",
            "text/plain": [
              "<Figure size 576x396 with 1 Axes>"
            ]
          },
          "metadata": {
            "tags": []
          }
        },
        {
          "output_type": "display_data",
          "data": {
            "image/png": "[encoded data removed]",
            "text/plain": [
              "<Figure size 576x396 with 1 Axes>"
            ]
          },
          "metadata": {
            "tags": []
          }
        }
      ]
    },
    {
      "metadata": {
        "id": "7eymWZYsGxB2",
        "colab_type": "code",
        "colab": {
          "base_uri": "https://localhost:8080/",
          "height": 87
        },
        "outputId": "98ed5fb7-dfdf-4c8d-fa45-8d5be834aed7"
      },
      "cell_type": "code",
      "source": [
        "from keras.models import Sequential\n",
        "from keras.layers import Embedding, Flatten, Dense, LSTM\n",
        "\n",
        "units = 32\n",
        "\n",
        "model = Sequential()\n",
        "model.add(Embedding(num_events, embedding_dim))\n",
        "model.add(LSTM(units, dropout=0.2, recurrent_dropout=0.2))\n",
        "model.add(Dense(1, activation='sigmoid'))"
      ],
      "execution_count": 47,
      "outputs": [
        {
          "output_type": "stream",
          "text": [
            "WARNING:tensorflow:From /usr/local/lib/python3.6/dist-packages/keras/backend/tensorflow_backend.py:3445: calling dropout (from tensorflow.python.ops.nn_ops) with keep_prob is deprecated and will be removed in a future version.\n",
            "Instructions for updating:\n",
            "Please use `rate` instead of `keep_prob`. Rate should be set to `rate = 1 - keep_prob`.\n"
          ],
          "name": "stdout"
        }
      ]
    },
    {
      "metadata": {
        "id": "WW9H7QFGGzBI",
        "colab_type": "code",
        "colab": {}
      },
      "cell_type": "code",
      "source": [
        "model.layers[0].set_weights([embedding_matrix])\n",
        "model.layers[0].trainable = True"
      ],
      "execution_count": 0,
      "outputs": []
    },
    {
      "metadata": {
        "id": "1SjcEHOaG1Wo",
        "colab_type": "code",
        "colab": {
          "base_uri": "https://localhost:8080/",
          "height": 1714
        },
        "outputId": "e5ddcf76-7b6b-4368-ea47-23a3733621dd"
      },
      "cell_type": "code",
      "source": [
        "model.compile(optimizer='rmsprop',\n",
        "              loss='binary_crossentropy',\n",
        "              metrics=['acc'])\n",
        "history = model.fit(X_train, y_train,\n",
        "                    epochs=50,\n",
        "                    batch_size=32,\n",
        "                    validation_data=(X_valid, y_valid))\n",
        "model.save(\"mymodel_embedding_trainable_with_dropout.h5\")"
      ],
      "execution_count": 49,
      "outputs": [
        {
          "output_type": "stream",
          "text": [
            "Train on 4612 samples, validate on 1154 samples\n",
            "Epoch 1/50\n",
            "4612/4612 [==============================] - 4s 845us/step - loss: 0.5705 - acc: 0.7196 - val_loss: 0.3859 - val_acc: 0.8423\n",
            "Epoch 2/50\n",
            "4612/4612 [==============================] - 2s 383us/step - loss: 0.3499 - acc: 0.8710 - val_loss: 0.2617 - val_acc: 0.8960\n",
            "Epoch 3/50\n",
            "4612/4612 [==============================] - 2s 389us/step - loss: 0.2356 - acc: 0.9189 - val_loss: 0.1989 - val_acc: 0.9359\n",
            "Epoch 4/50\n",
            "4612/4612 [==============================] - 2s 414us/step - loss: 0.1953 - acc: 0.9328 - val_loss: 0.1847 - val_acc: 0.9376\n",
            "Epoch 5/50\n",
            "4612/4612 [==============================] - 2s 407us/step - loss: 0.1827 - acc: 0.9367 - val_loss: 0.1713 - val_acc: 0.9367\n",
            "Epoch 6/50\n",
            "4612/4612 [==============================] - 2s 421us/step - loss: 0.1701 - acc: 0.9410 - val_loss: 0.1692 - val_acc: 0.9393\n",
            "Epoch 7/50\n",
            "4612/4612 [==============================] - 2s 416us/step - loss: 0.1681 - acc: 0.9369 - val_loss: 0.1668 - val_acc: 0.9393\n",
            "Epoch 8/50\n",
            "4612/4612 [==============================] - 2s 416us/step - loss: 0.1672 - acc: 0.9415 - val_loss: 0.1668 - val_acc: 0.9385\n",
            "Epoch 9/50\n",
            "4612/4612 [==============================] - 2s 414us/step - loss: 0.1649 - acc: 0.9389 - val_loss: 0.1660 - val_acc: 0.9341\n",
            "Epoch 10/50\n",
            "4612/4612 [==============================] - 2s 402us/step - loss: 0.1616 - acc: 0.9393 - val_loss: 0.1694 - val_acc: 0.9385\n",
            "Epoch 11/50\n",
            "4612/4612 [==============================] - 2s 385us/step - loss: 0.1598 - acc: 0.9406 - val_loss: 0.1631 - val_acc: 0.9393\n",
            "Epoch 12/50\n",
            "4612/4612 [==============================] - 2s 387us/step - loss: 0.1599 - acc: 0.9438 - val_loss: 0.1632 - val_acc: 0.9411\n",
            "Epoch 13/50\n",
            "4612/4612 [==============================] - 2s 387us/step - loss: 0.1581 - acc: 0.9432 - val_loss: 0.1643 - val_acc: 0.9393\n",
            "Epoch 14/50\n",
            "4612/4612 [==============================] - 2s 378us/step - loss: 0.1580 - acc: 0.9441 - val_loss: 0.1634 - val_acc: 0.9419\n",
            "Epoch 15/50\n",
            "4612/4612 [==============================] - 2s 411us/step - loss: 0.1548 - acc: 0.9445 - val_loss: 0.1633 - val_acc: 0.9419\n",
            "Epoch 16/50\n",
            "4612/4612 [==============================] - 2s 391us/step - loss: 0.1553 - acc: 0.9436 - val_loss: 0.1607 - val_acc: 0.9419\n",
            "Epoch 17/50\n",
            "4612/4612 [==============================] - 2s 402us/step - loss: 0.1533 - acc: 0.9454 - val_loss: 0.1664 - val_acc: 0.9393\n",
            "Epoch 18/50\n",
            "4612/4612 [==============================] - 2s 388us/step - loss: 0.1511 - acc: 0.9451 - val_loss: 0.1614 - val_acc: 0.9437\n",
            "Epoch 19/50\n",
            "4612/4612 [==============================] - 2s 393us/step - loss: 0.1499 - acc: 0.9441 - val_loss: 0.1608 - val_acc: 0.9393\n",
            "Epoch 20/50\n",
            "4612/4612 [==============================] - 2s 391us/step - loss: 0.1493 - acc: 0.9447 - val_loss: 0.1598 - val_acc: 0.9445\n",
            "Epoch 21/50\n",
            "4612/4612 [==============================] - 2s 394us/step - loss: 0.1494 - acc: 0.9477 - val_loss: 0.1620 - val_acc: 0.9393\n",
            "Epoch 22/50\n",
            "4612/4612 [==============================] - 2s 393us/step - loss: 0.1468 - acc: 0.9473 - val_loss: 0.1594 - val_acc: 0.9428\n",
            "Epoch 23/50\n",
            "4612/4612 [==============================] - 2s 403us/step - loss: 0.1466 - acc: 0.9477 - val_loss: 0.1607 - val_acc: 0.9419\n",
            "Epoch 24/50\n",
            "4612/4612 [==============================] - 2s 393us/step - loss: 0.1455 - acc: 0.9473 - val_loss: 0.1597 - val_acc: 0.9445\n",
            "Epoch 25/50\n",
            "4612/4612 [==============================] - 2s 400us/step - loss: 0.1443 - acc: 0.9475 - val_loss: 0.1589 - val_acc: 0.9428\n",
            "Epoch 26/50\n",
            "4612/4612 [==============================] - 2s 417us/step - loss: 0.1439 - acc: 0.9486 - val_loss: 0.1593 - val_acc: 0.9428\n",
            "Epoch 27/50\n",
            "4612/4612 [==============================] - 2s 415us/step - loss: 0.1444 - acc: 0.9480 - val_loss: 0.1615 - val_acc: 0.9437\n",
            "Epoch 28/50\n",
            "4612/4612 [==============================] - 2s 420us/step - loss: 0.1433 - acc: 0.9473 - val_loss: 0.1619 - val_acc: 0.9428\n",
            "Epoch 29/50\n",
            "4612/4612 [==============================] - 2s 403us/step - loss: 0.1424 - acc: 0.9484 - val_loss: 0.1615 - val_acc: 0.9463\n",
            "Epoch 30/50\n",
            "4612/4612 [==============================] - 2s 388us/step - loss: 0.1433 - acc: 0.9460 - val_loss: 0.1607 - val_acc: 0.9445\n",
            "Epoch 31/50\n",
            "4612/4612 [==============================] - 2s 387us/step - loss: 0.1419 - acc: 0.9482 - val_loss: 0.1607 - val_acc: 0.9437\n",
            "Epoch 32/50\n",
            "4612/4612 [==============================] - 2s 394us/step - loss: 0.1393 - acc: 0.9499 - val_loss: 0.1630 - val_acc: 0.9419\n",
            "Epoch 33/50\n",
            "4612/4612 [==============================] - 2s 393us/step - loss: 0.1349 - acc: 0.9556 - val_loss: 0.1648 - val_acc: 0.9463\n",
            "Epoch 34/50\n",
            "4612/4612 [==============================] - 2s 393us/step - loss: 0.1407 - acc: 0.9503 - val_loss: 0.1618 - val_acc: 0.9437\n",
            "Epoch 35/50\n",
            "4612/4612 [==============================] - 2s 389us/step - loss: 0.1355 - acc: 0.9529 - val_loss: 0.1639 - val_acc: 0.9454\n",
            "Epoch 36/50\n",
            "4612/4612 [==============================] - 2s 402us/step - loss: 0.1403 - acc: 0.9506 - val_loss: 0.1629 - val_acc: 0.9437\n",
            "Epoch 37/50\n",
            "4612/4612 [==============================] - 2s 409us/step - loss: 0.1388 - acc: 0.9497 - val_loss: 0.1653 - val_acc: 0.9419\n",
            "Epoch 38/50\n",
            "4612/4612 [==============================] - 2s 412us/step - loss: 0.1357 - acc: 0.9495 - val_loss: 0.1625 - val_acc: 0.9437\n",
            "Epoch 39/50\n",
            "4612/4612 [==============================] - 2s 405us/step - loss: 0.1376 - acc: 0.9521 - val_loss: 0.1624 - val_acc: 0.9454\n",
            "Epoch 40/50\n",
            "4612/4612 [==============================] - 2s 418us/step - loss: 0.1360 - acc: 0.9508 - val_loss: 0.1633 - val_acc: 0.9454\n",
            "Epoch 41/50\n",
            "4612/4612 [==============================] - 2s 413us/step - loss: 0.1329 - acc: 0.9516 - val_loss: 0.1632 - val_acc: 0.9437\n",
            "Epoch 42/50\n",
            "4612/4612 [==============================] - 2s 409us/step - loss: 0.1363 - acc: 0.9523 - val_loss: 0.1652 - val_acc: 0.9411\n",
            "Epoch 43/50\n",
            "4612/4612 [==============================] - 2s 412us/step - loss: 0.1366 - acc: 0.9523 - val_loss: 0.1660 - val_acc: 0.9445\n",
            "Epoch 44/50\n",
            "4612/4612 [==============================] - 2s 412us/step - loss: 0.1326 - acc: 0.9527 - val_loss: 0.1704 - val_acc: 0.9419\n",
            "Epoch 45/50\n",
            "4612/4612 [==============================] - 2s 409us/step - loss: 0.1328 - acc: 0.9542 - val_loss: 0.1642 - val_acc: 0.9428\n",
            "Epoch 46/50\n",
            "4612/4612 [==============================] - 2s 405us/step - loss: 0.1312 - acc: 0.9542 - val_loss: 0.1641 - val_acc: 0.9428\n",
            "Epoch 47/50\n",
            "4612/4612 [==============================] - 2s 392us/step - loss: 0.1310 - acc: 0.9529 - val_loss: 0.1675 - val_acc: 0.9428\n",
            "Epoch 48/50\n",
            "4612/4612 [==============================] - 2s 394us/step - loss: 0.1348 - acc: 0.9532 - val_loss: 0.1679 - val_acc: 0.9411\n",
            "Epoch 49/50\n",
            "4612/4612 [==============================] - 2s 396us/step - loss: 0.1316 - acc: 0.9545 - val_loss: 0.1655 - val_acc: 0.9393\n",
            "Epoch 50/50\n",
            "4612/4612 [==============================] - 2s 387us/step - loss: 0.1324 - acc: 0.9512 - val_loss: 0.1635 - val_acc: 0.9437\n"
          ],
          "name": "stdout"
        }
      ]
    },
    {
      "metadata": {
        "id": "P9zli6kxG4IU",
        "colab_type": "code",
        "colab": {
          "base_uri": "https://localhost:8080/",
          "height": 706
        },
        "outputId": "e8e4ba70-aa3d-42a7-aa8a-c71568feefdf"
      },
      "cell_type": "code",
      "source": [
        "import matplotlib.pyplot as plt\n",
        "\n",
        "acc = history.history['acc']\n",
        "val_acc = history.history['val_acc']\n",
        "loss = history.history['loss']\n",
        "val_loss = history.history['val_loss']\n",
        "\n",
        "epochs = range(1, len(acc) + 1)\n",
        "\n",
        "plt.plot(epochs, acc, 'bo', label='Training acc')\n",
        "plt.plot(epochs, val_acc, 'b', label='Validation acc')\n",
        "plt.title('Training and validation accuracy')\n",
        "plt.legend()\n",
        "\n",
        "plt.figure()\n",
        "\n",
        "plt.plot(epochs, loss, 'bo', label='Training loss')\n",
        "plt.plot(epochs, val_loss, 'b', label='Validation loss')\n",
        "plt.title('Training and validation loss')\n",
        "plt.legend()\n",
        "\n",
        "plt.show()"
      ],
      "execution_count": 50,
      "outputs": [
        {
          "output_type": "display_data",
          "data": {
            "image/png": "[encoded data removed]",
            "text/plain": [
              "<Figure size 576x396 with 1 Axes>"
            ]
          },
          "metadata": {
            "tags": []
          }
        },
        {
          "output_type": "display_data",
          "data": {
            "image/png": "[encoded data removed]",
            "text/plain": [
              "<Figure size 576x396 with 1 Axes>"
            ]
          },
          "metadata": {
            "tags": []
          }
        }
      ]
    },
    {
      "metadata": {
        "id": "qlo70qzkM6RB",
        "colab_type": "code",
        "colab": {}
      },
      "cell_type": "code",
      "source": [
        ""
      ],
      "execution_count": 0,
      "outputs": []
    },
    {
      "metadata": {
        "id": "rDRui2i1M6d7",
        "colab_type": "code",
        "colab": {}
      },
      "cell_type": "code",
      "source": [
        ""
      ],
      "execution_count": 0,
      "outputs": []
    }
  ]
}